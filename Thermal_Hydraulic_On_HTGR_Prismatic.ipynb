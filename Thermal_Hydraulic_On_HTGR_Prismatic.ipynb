{
  "nbformat": 4,
  "nbformat_minor": 0,
  "metadata": {
    "colab": {
      "provenance": []
    },
    "kernelspec": {
      "name": "python3",
      "display_name": "Python 3"
    },
    "language_info": {
      "name": "python"
    }
  },
  "cells": [
    {
      "cell_type": "markdown",
      "source": [
        "# **Import Library**"
      ],
      "metadata": {
        "id": "IRWcCXmRxN_T"
      }
    },
    {
      "cell_type": "code",
      "execution_count": null,
      "metadata": {
        "id": "bYLtc6wLVZLl"
      },
      "outputs": [],
      "source": [
        "import pandas as pd\n",
        "import numpy as np\n",
        "import math\n",
        "import seaborn as sns"
      ]
    },
    {
      "cell_type": "markdown",
      "source": [
        "# **Import Constants**"
      ],
      "metadata": {
        "id": "dSN_4TwvxR2g"
      }
    },
    {
      "cell_type": "code",
      "source": [
        "innerfuel_compactradius = 0.005\n",
        "outerfuel_compactradius = 0.013\n",
        "innersleeve_radius = 0.013125\n",
        "outersleeve_radius = 0.017\n",
        "coolanthole_radius = 0.025\n",
        "gapthick_compactandsleeve = 0.000125\n",
        "number_fuelblock = 30\n",
        "number_coolantchannel = 33\n",
        "fuel_block = 0.364\n",
        "Pressure = 4\n",
        "coolant_inlettemp = 395\n",
        "coolant_outlettemp = 950\n",
        "total_termalpwr = 30\n",
        "height_activereactor = 3.48\n",
        "height_reactor = 5.8\n",
        "number_axiallayer = 20\n",
        "helium_cp = 5192\n",
        "flow = 0.1\n",
        "k_helium = 0.2751\n",
        "rho_helium = 2.8401\n",
        "q_helium = 258.86\n",
        "k_graphite = 32.882\n",
        "Gap_HT = 1457.6"
      ],
      "metadata": {
        "id": "UTMVjRkVgzJ7"
      },
      "execution_count": null,
      "outputs": []
    },
    {
      "cell_type": "code",
      "source": [
        "rf = pow(outerfuel_compactradius,2)-pow(innerfuel_compactradius,2)\n",
        "print(\"nilai rf :\", rf)\n",
        "areapin_coolant = math.pi*(coolanthole_radius**2-outersleeve_radius**2)\n",
        "print(\"area pin coolant :\", areapin_coolant)\n",
        "dz = height_reactor/number_axiallayer\n",
        "print(\"nilai dz : \", dz)\n",
        "delta_t = (coolant_outlettemp+273)-(coolant_inlettemp+273)\n",
        "print(\"delta z :\", delta_t)\n",
        "total_flowrate = total_termalpwr*1000000/helium_cp/delta_t\n",
        "print(\"total flow rate :\", total_flowrate)"
      ],
      "metadata": {
        "colab": {
          "base_uri": "https://localhost:8080/"
        },
        "id": "5hJrDj8Qg2WR",
        "outputId": "77fd31ca-ed44-4485-d284-e0ddc9900d89"
      },
      "execution_count": null,
      "outputs": [
        {
          "output_type": "stream",
          "name": "stdout",
          "text": [
            "nilai rf : 0.00014399999999999998\n",
            "area pin coolant : 0.0010555751316061708\n",
            "nilai dz :  0.29\n",
            "delta z : 555\n",
            "total flow rate : 10.411027360179903\n"
          ]
        }
      ]
    },
    {
      "cell_type": "code",
      "source": [
        "data_sic= [4.495, 4.205, 3.915, 3.625, 3.335, 3.045, 2.755, 2.465, 2.175, 1.885, 1.595, 1.305]\n",
        "print(len(data_sic))\n",
        "print(data_sic[11])"
      ],
      "metadata": {
        "id": "_Uzyc3J3MRGR"
      },
      "execution_count": null,
      "outputs": []
    },
    {
      "cell_type": "markdown",
      "source": [
        "# **Helium Distribution All Layers**"
      ],
      "metadata": {
        "id": "4a_UkidSf7uq"
      }
    },
    {
      "cell_type": "code",
      "source": [
        "from google.colab import drive \n",
        "drive.mount('/content/gdrive')\n",
        "df=pd.read_csv('gdrive/My Drive/Power Density SiC',header=None)\n",
        "#dfr = df.transpose()\n",
        "#dfrr = dfr.iloc[::-1]\n",
        "layer = df.to_numpy()"
      ],
      "metadata": {
        "colab": {
          "base_uri": "https://localhost:8080/"
        },
        "id": "IUhmhvafiym3",
        "outputId": "af134d6c-8b44-48db-b215-3fddbc4c410c"
      },
      "execution_count": null,
      "outputs": [
        {
          "output_type": "stream",
          "name": "stdout",
          "text": [
            "Drive already mounted at /content/gdrive; to attempt to forcibly remount, call drive.mount(\"/content/gdrive\", force_remount=True).\n"
          ]
        }
      ]
    },
    {
      "cell_type": "markdown",
      "source": [
        "### **Calculate Temperature**"
      ],
      "metadata": {
        "id": "bvj4ddQSMZNc"
      }
    },
    {
      "cell_type": "code",
      "source": [
        "temp = []\n",
        "data_tin = [668]\n",
        "np.array(data_tin, dtype=float)\n",
        "#print(type(data_tin))\n",
        "data_tout = []\n",
        "#print(len(layer))\n",
        "result = []\n",
        "for i in range (len(layer)):\n",
        "  part = layer[i]\n",
        "  #data_tin.clear()\n",
        "  #data_tin = [668]\n",
        "  #print(len(part))\n",
        "  #print(part)\n",
        "  for x in range(len(part)):\n",
        "    tout = 1200 + ((areapin_coolant*part[x]*1000000*data_sic[11])/flow/helium_cp)\n",
        "    #AHAHHAHAHAHA\n",
        "    #tout = data_tin[len(data_tin)-1] + (areapin_coolant*part[x]*1000000*data_sic[2])/flow/helium_cp\n",
        "    #tout = (areapin_coolant*part[x]*1000000*data_sic[x])/flow/helium_cp\n",
        "    #print(data_tin[len(data_tin)-1])\n",
        "    #print(part[x])\n",
        "    data_tin.append(tout)\n",
        "    if part[x]==0:\n",
        "      result.append(668)\n",
        "      #result.append(0)\n",
        "    else:\n",
        "      result.append(tout)\n",
        "    x = x+1\n",
        "    #print(data_tin)\n",
        "    #print(x)\n",
        "#print(len(data_tin))\n",
        "#print(len(data_sic))\n",
        "#data_tin = np.delete(data_tin,[0])\n",
        "#data_tin.pop(0)\n",
        "result_he = [round(elem, 2) for elem in result ]\n",
        "print(result_he)\n",
        "print(len(result_he))"
      ],
      "metadata": {
        "id": "r2XrVoQsMXYA"
      },
      "execution_count": null,
      "outputs": []
    },
    {
      "cell_type": "code",
      "source": [
        "result_remapp = [result_he[x*21:x*21+21] for x in range(24)]\n",
        "dfress = pd.DataFrame(result_remapp)\n",
        "print(dfress)"
      ],
      "metadata": {
        "id": "cJTRj8atMoDw"
      },
      "execution_count": null,
      "outputs": []
    },
    {
      "cell_type": "code",
      "source": [
        "from google.colab import files\n",
        "dfress.to_csv('Helium Distribution Layer .csv', encoding = 'utf-8-sig') \n",
        "files.download('Helium Distribution Layer .csv')"
      ],
      "metadata": {
        "id": "BZWz0hg0Mq6e"
      },
      "execution_count": null,
      "outputs": []
    },
    {
      "cell_type": "markdown",
      "source": [
        "# ***Graphite Sleeve Outer Surface Temperatur***"
      ],
      "metadata": {
        "id": "b-FUQAWdu-Xm"
      }
    },
    {
      "cell_type": "markdown",
      "source": [
        "### **Calculate Temperature**"
      ],
      "metadata": {
        "id": "VO9u1wq0GbL-"
      }
    },
    {
      "cell_type": "code",
      "source": [
        "result_tso = []\n",
        "for i in range(len(part_tso)):\n",
        "  tso = result[i]+((result_he[i]*1000000*(rf)/33/2*outersleeve_radius*q_helium))\n",
        "  if part_tso[i]==0:\n",
        "    result_tso.append(result[i])\n",
        "  else:\n",
        "    result_tso.append(tso)\n",
        "result_tso = [round(elem, 2) for elem in result_tso ]\n",
        "print(result_tso)"
      ],
      "metadata": {
        "colab": {
          "base_uri": "https://localhost:8080/"
        },
        "id": "UYx4Ct40E_i_",
        "outputId": "df5bcade-8359-4457-8747-b053865aa6ed"
      },
      "execution_count": null,
      "outputs": [
        {
          "output_type": "stream",
          "name": "stdout",
          "text": [
            "[668.0, 668.0, 668.0, 668.0, 668.0, 668.0, 668.0, 668.0, 668.0, 668.0, 668.0, 668.0, 668.0, 668.0, 668.0, 668.0, 668.0, 668.0, 668.0, 668.0, 668.0, 668.0, 668.0, 668.0, 668.0, 668.0, 668.0, 668.0, 668.0, 668.0, 668.0, 668.0, 668.0, 668.0, 668.0, 668.0, 668.0, 668.0, 668.0, 668.0, 668.0, 668.0, 668.0, 668.0, 668.0, 668.0, 668.0, 668.0, 668.0, 668.0, 668.0, 668.0, 668.0, 668.0, 668.0, 668.0, 668.0, 668.0, 668.0, 668.0, 668.0, 668.0, 668.0, 668.0, 668.0, 668.0, 668.0, 668.0, 668.0, 668.0, 668.0, 668.0, 668.0, 668.0, 668.0, 668.0, 668.0, 668.0, 668.0, 668.0, 668.0, 668.0, 668.0, 668.0, 668.0, 668.0, 668.0, 668.0, 668.0, 668.0, 668.0, 668.0, 668.0, 668.0, 668.0, 668.0, 668.0, 668.0, 668.0, 668.0, 668.0, 668.0, 668.0, 668.0, 668.0, 668.0, 668.0, 668.0, 668.0, 668.0, 668.0, 668.0, 668.0, 668.0, 1208.53, 1208.0, 1208.53, 668.0, 668.0, 668.0, 668.0, 668.0, 668.0, 668.0, 668.0, 668.0, 668.0, 668.0, 668.0, 668.0, 668.0, 668.0, 1207.94, 1207.89, 1207.88, 1208.93, 1210.44, 1208.93, 1207.89, 1207.89, 1207.95, 668.0, 668.0, 668.0, 668.0, 668.0, 668.0, 668.0, 668.0, 668.0, 1207.86, 1207.93, 1207.85, 1207.85, 1208.51, 1209.39, 668.0, 668.0, 668.0, 1209.39, 1208.51, 1207.86, 1207.86, 1207.95, 1207.9, 668.0, 668.0, 668.0, 1207.95, 1208.48, 1208.91, 1207.86, 1209.38, 1208.5, 1207.66, 1207.66, 1208.74, 668.0, 668.0, 668.0, 1208.74, 1207.66, 1207.66, 1208.51, 1209.41, 1207.89, 1208.93, 1208.53, 1208.0, 1208.49, 1208.92, 1210.42, 668.0, 668.0, 668.0, 1208.73, 1208.14, 1208.14, 1207.16, 1207.82, 1207.16, 1208.14, 1208.14, 1208.74, 668.0, 668.0, 668.0, 1210.44, 1208.93, 1208.53, 1207.76, 1207.76, 1209.25, 668.0, 668.0, 668.0, 1207.82, 1207.16, 1207.24, 1207.24, 1207.99, 1207.24, 1207.24, 1207.16, 1207.82, 668.0, 668.0, 668.0, 1209.39, 1207.88, 1207.89, 1207.81, 1207.75, 1208.4, 1207.66, 1208.74, 1208.14, 1207.16, 1207.24, 1207.99, 668.0, 668.0, 668.0, 1207.99, 1207.24, 1207.16, 1208.14, 1208.74, 1207.66, 1208.51, 1207.85, 1207.94, 1207.94, 1207.86, 1208.51, 1207.66, 1208.74, 1208.14, 1207.16, 1207.24, 1207.99, 668.0, 668.0, 668.0, 1207.99, 1207.24, 1207.16, 1208.14, 1208.73, 1207.66, 1208.5, 1207.85, 1207.93, 1207.89, 1207.89, 1209.39, 668.0, 668.0, 668.0, 1207.82, 1207.16, 1207.24, 1207.24, 1207.99, 1207.24, 1207.24, 1207.16, 1207.82, 668.0, 668.0, 668.0, 1209.38, 1207.86, 1207.88, 1208.53, 1208.93, 1210.44, 668.0, 668.0, 668.0, 1208.74, 1208.14, 1208.14, 1207.16, 1207.82, 1207.16, 1208.14, 1208.14, 1208.74, 668.0, 668.0, 668.0, 1210.42, 1208.91, 1208.48, 1208.02, 1208.53, 1208.93, 1207.89, 1209.41, 1208.51, 1207.66, 1207.66, 1208.74, 668.0, 668.0, 668.0, 1208.74, 1207.66, 1207.66, 1208.5, 1209.38, 1207.86, 1208.91, 1208.48, 1207.95, 668.0, 668.0, 668.0, 1207.9, 1207.95, 1207.86, 1207.86, 1208.53, 1209.41, 668.0, 668.0, 668.0, 1209.39, 1208.51, 1207.85, 1207.85, 1207.93, 1207.88, 668.0, 668.0, 668.0, 668.0, 668.0, 668.0, 668.0, 668.0, 668.0, 1207.95, 1207.9, 1207.89, 1208.95, 1210.45, 1208.95, 1207.89, 1207.89, 1207.94, 668.0, 668.0, 668.0, 668.0, 668.0, 668.0, 668.0, 668.0, 668.0, 668.0, 668.0, 668.0, 668.0, 668.0, 668.0, 1208.4, 1207.88, 1208.4, 668.0, 668.0, 668.0, 668.0, 668.0, 668.0, 668.0, 668.0, 668.0, 668.0, 668.0, 668.0, 668.0, 668.0, 668.0, 668.0, 668.0, 668.0, 668.0, 668.0, 668.0, 668.0, 668.0, 668.0, 668.0, 668.0, 668.0, 668.0, 668.0, 668.0, 668.0, 668.0, 668.0, 668.0, 668.0, 668.0, 668.0, 668.0, 668.0, 668.0, 668.0, 668.0, 668.0, 668.0, 668.0, 668.0, 668.0, 668.0, 668.0, 668.0, 668.0, 668.0, 668.0, 668.0, 668.0, 668.0, 668.0, 668.0, 668.0, 668.0, 668.0, 668.0, 668.0, 668.0, 668.0, 668.0, 668.0, 668.0, 668.0, 668.0, 668.0, 668.0, 668.0, 668.0, 668.0, 668.0, 668.0, 668.0, 668.0, 668.0, 668.0, 668.0, 668.0, 668.0, 668.0, 668.0, 668.0, 668.0, 668.0, 668.0, 668.0, 668.0, 668.0, 668.0, 668.0, 668.0, 668.0, 668.0, 668.0, 668.0, 668.0, 668.0, 668.0, 668.0, 668.0, 668.0, 668.0, 668.0, 668.0, 668.0, 668.0, 668.0, 668.0, 668.0]\n"
          ]
        }
      ]
    },
    {
      "cell_type": "markdown",
      "source": [
        "### **Reshape Dataa**"
      ],
      "metadata": {
        "id": "laKTYw8vGfr-"
      }
    },
    {
      "cell_type": "code",
      "source": [
        "datatso = [result_tso[x*21:x*21+21] for x in range(24)]\n",
        "dftso = pd.DataFrame(datatso)\n",
        "#print(dftso)\n",
        "#dftso.transpose()"
      ],
      "metadata": {
        "id": "9Wx9CeEQvQcf"
      },
      "execution_count": null,
      "outputs": []
    },
    {
      "cell_type": "markdown",
      "source": [
        "### **Download result**"
      ],
      "metadata": {
        "id": "1W4m7Hp7Gmra"
      }
    },
    {
      "cell_type": "code",
      "source": [
        "from google.colab import files\n",
        "dftso.to_csv('Graphite Sleeve Outer Surface Layer .csv', encoding = 'utf-8-sig') \n",
        "files.download('Graphite Sleeve Outer Surface Layer .csv')"
      ],
      "metadata": {
        "id": "8Vrz5hZvvceq",
        "colab": {
          "base_uri": "https://localhost:8080/",
          "height": 17
        },
        "outputId": "c47c142f-ab31-4fa3-f4fc-59192d6aaf3a"
      },
      "execution_count": null,
      "outputs": [
        {
          "output_type": "display_data",
          "data": {
            "text/plain": [
              "<IPython.core.display.Javascript object>"
            ],
            "application/javascript": [
              "\n",
              "    async function download(id, filename, size) {\n",
              "      if (!google.colab.kernel.accessAllowed) {\n",
              "        return;\n",
              "      }\n",
              "      const div = document.createElement('div');\n",
              "      const label = document.createElement('label');\n",
              "      label.textContent = `Downloading \"${filename}\": `;\n",
              "      div.appendChild(label);\n",
              "      const progress = document.createElement('progress');\n",
              "      progress.max = size;\n",
              "      div.appendChild(progress);\n",
              "      document.body.appendChild(div);\n",
              "\n",
              "      const buffers = [];\n",
              "      let downloaded = 0;\n",
              "\n",
              "      const channel = await google.colab.kernel.comms.open(id);\n",
              "      // Send a message to notify the kernel that we're ready.\n",
              "      channel.send({})\n",
              "\n",
              "      for await (const message of channel.messages) {\n",
              "        // Send a message to notify the kernel that we're ready.\n",
              "        channel.send({})\n",
              "        if (message.buffers) {\n",
              "          for (const buffer of message.buffers) {\n",
              "            buffers.push(buffer);\n",
              "            downloaded += buffer.byteLength;\n",
              "            progress.value = downloaded;\n",
              "          }\n",
              "        }\n",
              "      }\n",
              "      const blob = new Blob(buffers, {type: 'application/binary'});\n",
              "      const a = document.createElement('a');\n",
              "      a.href = window.URL.createObjectURL(blob);\n",
              "      a.download = filename;\n",
              "      div.appendChild(a);\n",
              "      a.click();\n",
              "      div.remove();\n",
              "    }\n",
              "  "
            ]
          },
          "metadata": {}
        },
        {
          "output_type": "display_data",
          "data": {
            "text/plain": [
              "<IPython.core.display.Javascript object>"
            ],
            "application/javascript": [
              "download(\"download_5069f9c1-4b26-4410-a59e-063f9c1f0676\", \"Graphite Sleeve Outer Surface Layer .csv\", 3492)"
            ]
          },
          "metadata": {}
        }
      ]
    },
    {
      "cell_type": "markdown",
      "source": [
        "#***Graphite Sleeve Inner Surface Temperature***"
      ],
      "metadata": {
        "id": "A3xXJivHvzw6"
      }
    },
    {
      "cell_type": "code",
      "source": [
        "part_tsi = []\n",
        "for i in range (len(layer)):\n",
        "  part = layer[i]\n",
        "  for x in range(len(part)):\n",
        "    part_tsi.append(part[x])\n",
        "    x =x+1\n",
        "print(part_tsi)"
      ],
      "metadata": {
        "colab": {
          "base_uri": "https://localhost:8080/"
        },
        "outputId": "072b88bd-9668-47b1-ba8b-45aa9a004290",
        "id": "LNhXeyFmGx9V"
      },
      "execution_count": null,
      "outputs": [
        {
          "output_type": "stream",
          "name": "stdout",
          "text": [
            "[0.0, 0.0, 0.0, 0.0, 0.0, 0.0, 0.0, 0.0, 0.0, 0.0, 0.0, 0.0, 0.0, 0.0, 0.0, 0.0, 0.0, 0.0, 0.0, 0.0, 0.0, 0.0, 0.0, 0.0, 0.0, 0.0, 0.0, 0.0, 0.0, 0.0, 0.0, 0.0, 0.0, 0.0, 0.0, 0.0, 0.0, 0.0, 0.0, 0.0, 0.0, 0.0, 0.0, 0.0, 0.0, 0.0, 0.0, 0.0, 0.0, 0.0, 0.0, 0.0, 0.0, 0.0, 0.0, 0.0, 0.0, 0.0, 0.0, 0.0, 0.0, 0.0, 0.0, 0.0, 0.0, 0.0, 0.0, 0.0, 0.0, 0.0, 0.0, 0.0, 0.0, 0.0, 0.0, 0.0, 0.0, 0.0, 0.0, 0.0, 0.0, 0.0, 0.0, 0.0, 0.0, 0.0, 0.0, 0.0, 0.0, 0.0, 0.0, 0.0, 0.0, 0.0, 0.0, 0.0, 0.0, 0.0, 0.0, 0.0, 0.0, 0.0, 0.0, 0.0, 0.0, 0.0, 0.0, 0.0, 0.0, 0.0, 0.0, 0.0, 0.0, 0.0, 0.696, 0.653, 0.696, 0.0, 0.0, 0.0, 0.0, 0.0, 0.0, 0.0, 0.0, 0.0, 0.0, 0.0, 0.0, 0.0, 0.0, 0.0, 0.648, 0.644, 0.643, 0.729, 0.852, 0.729, 0.644, 0.644, 0.649, 0.0, 0.0, 0.0, 0.0, 0.0, 0.0, 0.0, 0.0, 0.0, 0.642, 0.647, 0.641, 0.641, 0.695, 0.767, 0.0, 0.0, 0.0, 0.767, 0.695, 0.642, 0.642, 0.649, 0.645, 0.0, 0.0, 0.0, 0.649, 0.692, 0.727, 0.642, 0.766, 0.694, 0.625, 0.625, 0.713, 0.0, 0.0, 0.0, 0.713, 0.625, 0.625, 0.695, 0.768, 0.644, 0.729, 0.696, 0.653, 0.693, 0.728, 0.85, 0.0, 0.0, 0.0, 0.712, 0.664, 0.664, 0.584, 0.638, 0.584, 0.665, 0.665, 0.713, 0.0, 0.0, 0.0, 0.852, 0.729, 0.696, 0.633, 0.633, 0.755, 0.0, 0.0, 0.0, 0.638, 0.584, 0.591, 0.591, 0.652, 0.591, 0.591, 0.584, 0.638, 0.0, 0.0, 0.0, 0.767, 0.643, 0.644, 0.637, 0.632, 0.685, 0.625, 0.713, 0.664, 0.584, 0.591, 0.652, 0.0, 0.0, 0.0, 0.652, 0.591, 0.584, 0.664, 0.713, 0.625, 0.695, 0.641, 0.648, 0.648, 0.642, 0.695, 0.625, 0.713, 0.665, 0.584, 0.591, 0.652, 0.0, 0.0, 0.0, 0.652, 0.591, 0.584, 0.664, 0.712, 0.625, 0.694, 0.641, 0.647, 0.644, 0.644, 0.767, 0.0, 0.0, 0.0, 0.638, 0.584, 0.591, 0.591, 0.652, 0.591, 0.591, 0.584, 0.638, 0.0, 0.0, 0.0, 0.766, 0.642, 0.643, 0.696, 0.729, 0.852, 0.0, 0.0, 0.0, 0.713, 0.665, 0.665, 0.584, 0.638, 0.584, 0.664, 0.664, 0.713, 0.0, 0.0, 0.0, 0.85, 0.727, 0.692, 0.654, 0.696, 0.729, 0.644, 0.768, 0.695, 0.625, 0.625, 0.713, 0.0, 0.0, 0.0, 0.713, 0.625, 0.625, 0.694, 0.766, 0.642, 0.727, 0.692, 0.649, 0.0, 0.0, 0.0, 0.645, 0.649, 0.642, 0.642, 0.696, 0.768, 0.0, 0.0, 0.0, 0.767, 0.695, 0.641, 0.641, 0.647, 0.643, 0.0, 0.0, 0.0, 0.0, 0.0, 0.0, 0.0, 0.0, 0.0, 0.649, 0.645, 0.644, 0.73, 0.853, 0.73, 0.644, 0.644, 0.648, 0.0, 0.0, 0.0, 0.0, 0.0, 0.0, 0.0, 0.0, 0.0, 0.0, 0.0, 0.0, 0.0, 0.0, 0.0, 0.685, 0.643, 0.685, 0.0, 0.0, 0.0, 0.0, 0.0, 0.0, 0.0, 0.0, 0.0, 0.0, 0.0, 0.0, 0.0, 0.0, 0.0, 0.0, 0.0, 0.0, 0.0, 0.0, 0.0, 0.0, 0.0, 0.0, 0.0, 0.0, 0.0, 0.0, 0.0, 0.0, 0.0, 0.0, 0.0, 0.0, 0.0, 0.0, 0.0, 0.0, 0.0, 0.0, 0.0, 0.0, 0.0, 0.0, 0.0, 0.0, 0.0, 0.0, 0.0, 0.0, 0.0, 0.0, 0.0, 0.0, 0.0, 0.0, 0.0, 0.0, 0.0, 0.0, 0.0, 0.0, 0.0, 0.0, 0.0, 0.0, 0.0, 0.0, 0.0, 0.0, 0.0, 0.0, 0.0, 0.0, 0.0, 0.0, 0.0, 0.0, 0.0, 0.0, 0.0, 0.0, 0.0, 0.0, 0.0, 0.0, 0.0, 0.0, 0.0, 0.0, 0.0, 0.0, 0.0, 0.0, 0.0, 0.0, 0.0, 0.0, 0.0, 0.0, 0.0, 0.0, 0.0, 0.0, 0.0, 0.0, 0.0, 0.0, 0.0, 0.0, 0.0, 0.0, 0.0, 0.0]\n"
          ]
        }
      ]
    },
    {
      "cell_type": "code",
      "source": [
        "#Temperature dalam K\n",
        "result_tsi = []\n",
        "for i in range (len(part_tsi)):\n",
        "  #tsi = (number_coolantchannel/2*math.pi**k_graphite)\n",
        "  #print(part_tso[i])\n",
        "  tsi = result_tso[i]+((((part_tsi[i]*1000000*rf*math.log(outersleeve_radius/innersleeve_radius))/number_coolantchannel/2)*k_graphite))\n",
        "  #print(math.log(outersleeve_radius/innersleeve_radius))\n",
        "  if part_tsi[i]==0:\n",
        "    result_tsi.append(result_tso[i])\n",
        "  else:\n",
        "    result_tsi.append(tsi)\n",
        "  i = i+1\n",
        "result_tsi = [round(elem, 2) for elem in result_tsi ]\n",
        "print(result_tsi)"
      ],
      "metadata": {
        "colab": {
          "base_uri": "https://localhost:8080/"
        },
        "id": "tB_6WVl2v1_j",
        "outputId": "15a76102-82af-4aee-dd59-0cf359fb5c0c"
      },
      "execution_count": null,
      "outputs": [
        {
          "output_type": "stream",
          "name": "stdout",
          "text": [
            "[668.0, 668.0, 668.0, 668.0, 668.0, 668.0, 668.0, 668.0, 668.0, 668.0, 668.0, 668.0, 668.0, 668.0, 668.0, 668.0, 668.0, 668.0, 668.0, 668.0, 668.0, 668.0, 668.0, 668.0, 668.0, 668.0, 668.0, 668.0, 668.0, 668.0, 668.0, 668.0, 668.0, 668.0, 668.0, 668.0, 668.0, 668.0, 668.0, 668.0, 668.0, 668.0, 668.0, 668.0, 668.0, 668.0, 668.0, 668.0, 668.0, 668.0, 668.0, 668.0, 668.0, 668.0, 668.0, 668.0, 668.0, 668.0, 668.0, 668.0, 668.0, 668.0, 668.0, 668.0, 668.0, 668.0, 668.0, 668.0, 668.0, 668.0, 668.0, 668.0, 668.0, 668.0, 668.0, 668.0, 668.0, 668.0, 668.0, 668.0, 668.0, 668.0, 668.0, 668.0, 668.0, 668.0, 668.0, 668.0, 668.0, 668.0, 668.0, 668.0, 668.0, 668.0, 668.0, 668.0, 668.0, 668.0, 668.0, 668.0, 668.0, 668.0, 668.0, 668.0, 668.0, 668.0, 668.0, 668.0, 668.0, 668.0, 668.0, 668.0, 668.0, 668.0, 1221.45, 1220.12, 1221.45, 668.0, 668.0, 668.0, 668.0, 668.0, 668.0, 668.0, 668.0, 668.0, 668.0, 668.0, 668.0, 668.0, 668.0, 668.0, 1219.97, 1219.84, 1219.81, 1222.46, 1226.25, 1222.46, 1219.84, 1219.84, 1220.0, 668.0, 668.0, 668.0, 668.0, 668.0, 668.0, 668.0, 668.0, 668.0, 1219.78, 1219.94, 1219.75, 1219.75, 1221.41, 1223.63, 668.0, 668.0, 668.0, 1223.63, 1221.41, 1219.78, 1219.78, 1220.0, 1219.87, 668.0, 668.0, 668.0, 1220.0, 1221.32, 1222.4, 1219.78, 1223.6, 1221.38, 1219.26, 1219.26, 1221.97, 668.0, 668.0, 668.0, 1221.97, 1219.26, 1219.26, 1221.41, 1223.66, 1219.84, 1222.46, 1221.45, 1220.12, 1221.35, 1222.43, 1226.2, 668.0, 668.0, 668.0, 1221.94, 1220.46, 1220.46, 1218.0, 1219.66, 1218.0, 1220.48, 1220.48, 1221.97, 668.0, 668.0, 668.0, 1226.25, 1222.46, 1221.45, 1219.51, 1219.51, 1223.26, 668.0, 668.0, 668.0, 1219.66, 1218.0, 1218.21, 1218.21, 1220.09, 1218.21, 1218.21, 1218.0, 1219.66, 668.0, 668.0, 668.0, 1223.63, 1219.81, 1219.84, 1219.63, 1219.48, 1221.11, 1219.26, 1221.97, 1220.46, 1218.0, 1218.21, 1220.09, 668.0, 668.0, 668.0, 1220.09, 1218.21, 1218.0, 1220.46, 1221.97, 1219.26, 1221.41, 1219.75, 1219.97, 1219.97, 1219.78, 1221.41, 1219.26, 1221.97, 1220.48, 1218.0, 1218.21, 1220.09, 668.0, 668.0, 668.0, 1220.09, 1218.21, 1218.0, 1220.46, 1221.94, 1219.26, 1221.38, 1219.75, 1219.94, 1219.84, 1219.84, 1223.63, 668.0, 668.0, 668.0, 1219.66, 1218.0, 1218.21, 1218.21, 1220.09, 1218.21, 1218.21, 1218.0, 1219.66, 668.0, 668.0, 668.0, 1223.6, 1219.78, 1219.81, 1221.45, 1222.46, 1226.25, 668.0, 668.0, 668.0, 1221.97, 1220.48, 1220.48, 1218.0, 1219.66, 1218.0, 1220.46, 1220.46, 1221.97, 668.0, 668.0, 668.0, 1226.2, 1222.4, 1221.32, 1220.16, 1221.45, 1222.46, 1219.84, 1223.66, 1221.41, 1219.26, 1219.26, 1221.97, 668.0, 668.0, 668.0, 1221.97, 1219.26, 1219.26, 1221.38, 1223.6, 1219.78, 1222.4, 1221.32, 1220.0, 668.0, 668.0, 668.0, 1219.87, 1220.0, 1219.78, 1219.78, 1221.45, 1223.66, 668.0, 668.0, 668.0, 1223.63, 1221.41, 1219.75, 1219.75, 1219.94, 1219.81, 668.0, 668.0, 668.0, 668.0, 668.0, 668.0, 668.0, 668.0, 668.0, 1220.0, 1219.87, 1219.84, 1222.5, 1226.28, 1222.5, 1219.84, 1219.84, 1219.97, 668.0, 668.0, 668.0, 668.0, 668.0, 668.0, 668.0, 668.0, 668.0, 668.0, 668.0, 668.0, 668.0, 668.0, 668.0, 1221.11, 1219.81, 1221.11, 668.0, 668.0, 668.0, 668.0, 668.0, 668.0, 668.0, 668.0, 668.0, 668.0, 668.0, 668.0, 668.0, 668.0, 668.0, 668.0, 668.0, 668.0, 668.0, 668.0, 668.0, 668.0, 668.0, 668.0, 668.0, 668.0, 668.0, 668.0, 668.0, 668.0, 668.0, 668.0, 668.0, 668.0, 668.0, 668.0, 668.0, 668.0, 668.0, 668.0, 668.0, 668.0, 668.0, 668.0, 668.0, 668.0, 668.0, 668.0, 668.0, 668.0, 668.0, 668.0, 668.0, 668.0, 668.0, 668.0, 668.0, 668.0, 668.0, 668.0, 668.0, 668.0, 668.0, 668.0, 668.0, 668.0, 668.0, 668.0, 668.0, 668.0, 668.0, 668.0, 668.0, 668.0, 668.0, 668.0, 668.0, 668.0, 668.0, 668.0, 668.0, 668.0, 668.0, 668.0, 668.0, 668.0, 668.0, 668.0, 668.0, 668.0, 668.0, 668.0, 668.0, 668.0, 668.0, 668.0, 668.0, 668.0, 668.0, 668.0, 668.0, 668.0, 668.0, 668.0, 668.0, 668.0, 668.0, 668.0, 668.0, 668.0, 668.0, 668.0, 668.0, 668.0]\n"
          ]
        }
      ]
    },
    {
      "cell_type": "code",
      "source": [
        "datatsi = [result_tsi[x*21:x*21+21] for x in range(24)]\n",
        "dftsi = pd.DataFrame(datatsi)\n",
        "#print(dftsi)\n",
        "#dftsi.transpose()"
      ],
      "metadata": {
        "id": "SlKxqYUtwBSR"
      },
      "execution_count": null,
      "outputs": []
    },
    {
      "cell_type": "code",
      "source": [
        "from google.colab import files\n",
        "dftsi.to_csv('Graphite Sleeve Inner Surface Temperature Layer .csv', encoding = 'utf-8-sig') \n",
        "files.download('Graphite Sleeve Inner Surface Temperature Layer .csv')"
      ],
      "metadata": {
        "id": "EOivdJJRwJ9Q",
        "colab": {
          "base_uri": "https://localhost:8080/",
          "height": 17
        },
        "outputId": "3de7bf13-5aae-4381-a3ce-40c76fa84cc5"
      },
      "execution_count": null,
      "outputs": [
        {
          "output_type": "display_data",
          "data": {
            "text/plain": [
              "<IPython.core.display.Javascript object>"
            ],
            "application/javascript": [
              "\n",
              "    async function download(id, filename, size) {\n",
              "      if (!google.colab.kernel.accessAllowed) {\n",
              "        return;\n",
              "      }\n",
              "      const div = document.createElement('div');\n",
              "      const label = document.createElement('label');\n",
              "      label.textContent = `Downloading \"${filename}\": `;\n",
              "      div.appendChild(label);\n",
              "      const progress = document.createElement('progress');\n",
              "      progress.max = size;\n",
              "      div.appendChild(progress);\n",
              "      document.body.appendChild(div);\n",
              "\n",
              "      const buffers = [];\n",
              "      let downloaded = 0;\n",
              "\n",
              "      const channel = await google.colab.kernel.comms.open(id);\n",
              "      // Send a message to notify the kernel that we're ready.\n",
              "      channel.send({})\n",
              "\n",
              "      for await (const message of channel.messages) {\n",
              "        // Send a message to notify the kernel that we're ready.\n",
              "        channel.send({})\n",
              "        if (message.buffers) {\n",
              "          for (const buffer of message.buffers) {\n",
              "            buffers.push(buffer);\n",
              "            downloaded += buffer.byteLength;\n",
              "            progress.value = downloaded;\n",
              "          }\n",
              "        }\n",
              "      }\n",
              "      const blob = new Blob(buffers, {type: 'application/binary'});\n",
              "      const a = document.createElement('a');\n",
              "      a.href = window.URL.createObjectURL(blob);\n",
              "      a.download = filename;\n",
              "      div.appendChild(a);\n",
              "      a.click();\n",
              "      div.remove();\n",
              "    }\n",
              "  "
            ]
          },
          "metadata": {}
        },
        {
          "output_type": "display_data",
          "data": {
            "text/plain": [
              "<IPython.core.display.Javascript object>"
            ],
            "application/javascript": [
              "download(\"download_2a0affcf-9b3f-489f-bab3-c4e5a38febfa\", \"Graphite Sleeve Inner Surface Temperature Layer .csv\", 3475)"
            ]
          },
          "metadata": {}
        }
      ]
    },
    {
      "cell_type": "markdown",
      "source": [
        "# ***Compact Outer Surface Temperature***"
      ],
      "metadata": {
        "id": "oqx5sWYMwM79"
      }
    },
    {
      "cell_type": "code",
      "source": [
        "part_tfo = []\n",
        "for i in range (len(layer)):\n",
        "  part = layer[i]\n",
        "  for x in range(len(part)):\n",
        "    part_tfo.append(part[x])\n",
        "    x =x+1\n",
        "print(len(part_tfo))"
      ],
      "metadata": {
        "colab": {
          "base_uri": "https://localhost:8080/"
        },
        "id": "O_uMcgorILmz",
        "outputId": "5f72725b-a3e0-4a08-bcd4-43413bbc1c63"
      },
      "execution_count": null,
      "outputs": [
        {
          "output_type": "stream",
          "name": "stdout",
          "text": [
            "504\n"
          ]
        }
      ]
    },
    {
      "cell_type": "code",
      "source": [
        "#Temperature dalam K\n",
        "result_tfo = []\n",
        "for i in range (len(part_tfo)):\n",
        "  tfo = result_tsi[i]+(part_tfo[i]*1000000*rf/number_coolantchannel/(2*outerfuel_compactradius*Gap_HT))\n",
        "  if part_tfo[i]==0:\n",
        "    result_tfo.append(result_tsi[i])\n",
        "  else:\n",
        "    result_tfo.append(tfo)\n",
        "  i = i+1\n",
        "result_tfo = [round(elem, 2) for elem in result_tfo ]\n",
        "print(result_tfo)"
      ],
      "metadata": {
        "colab": {
          "base_uri": "https://localhost:8080/"
        },
        "id": "g6maVsb0wUHC",
        "outputId": "af8a8b92-9793-4a06-c8dc-196b925f9d9b"
      },
      "execution_count": null,
      "outputs": [
        {
          "output_type": "stream",
          "name": "stdout",
          "text": [
            "[668.0, 668.0, 668.0, 668.0, 668.0, 668.0, 668.0, 668.0, 668.0, 668.0, 668.0, 668.0, 668.0, 668.0, 668.0, 668.0, 668.0, 668.0, 668.0, 668.0, 668.0, 668.0, 668.0, 668.0, 668.0, 668.0, 668.0, 668.0, 668.0, 668.0, 668.0, 668.0, 668.0, 668.0, 668.0, 668.0, 668.0, 668.0, 668.0, 668.0, 668.0, 668.0, 668.0, 668.0, 668.0, 668.0, 668.0, 668.0, 668.0, 668.0, 668.0, 668.0, 668.0, 668.0, 668.0, 668.0, 668.0, 668.0, 668.0, 668.0, 668.0, 668.0, 668.0, 668.0, 668.0, 668.0, 668.0, 668.0, 668.0, 668.0, 668.0, 668.0, 668.0, 668.0, 668.0, 668.0, 668.0, 668.0, 668.0, 668.0, 668.0, 668.0, 668.0, 668.0, 668.0, 668.0, 668.0, 668.0, 668.0, 668.0, 668.0, 668.0, 668.0, 668.0, 668.0, 668.0, 668.0, 668.0, 668.0, 668.0, 668.0, 668.0, 668.0, 668.0, 668.0, 668.0, 668.0, 668.0, 668.0, 668.0, 668.0, 668.0, 668.0, 668.0, 1221.53, 1220.2, 1221.53, 668.0, 668.0, 668.0, 668.0, 668.0, 668.0, 668.0, 668.0, 668.0, 668.0, 668.0, 668.0, 668.0, 668.0, 668.0, 1220.04, 1219.91, 1219.88, 1222.54, 1226.35, 1222.54, 1219.91, 1219.91, 1220.07, 668.0, 668.0, 668.0, 668.0, 668.0, 668.0, 668.0, 668.0, 668.0, 1219.85, 1220.01, 1219.82, 1219.82, 1221.49, 1223.72, 668.0, 668.0, 668.0, 1223.72, 1221.49, 1219.85, 1219.85, 1220.07, 1219.94, 668.0, 668.0, 668.0, 1220.07, 1221.4, 1222.48, 1219.85, 1223.69, 1221.46, 1219.33, 1219.33, 1222.05, 668.0, 668.0, 668.0, 1222.05, 1219.33, 1219.33, 1221.49, 1223.75, 1219.91, 1222.54, 1221.53, 1220.2, 1221.43, 1222.51, 1226.3, 668.0, 668.0, 668.0, 1222.02, 1220.54, 1220.54, 1218.07, 1219.73, 1218.07, 1220.56, 1220.56, 1222.05, 668.0, 668.0, 668.0, 1226.35, 1222.54, 1221.53, 1219.58, 1219.58, 1223.35, 668.0, 668.0, 668.0, 1219.73, 1218.07, 1218.28, 1218.28, 1220.17, 1218.28, 1218.28, 1218.07, 1219.73, 668.0, 668.0, 668.0, 1223.72, 1219.88, 1219.91, 1219.7, 1219.55, 1221.19, 1219.33, 1222.05, 1220.54, 1218.07, 1218.28, 1220.17, 668.0, 668.0, 668.0, 1220.17, 1218.28, 1218.07, 1220.54, 1222.05, 1219.33, 1221.49, 1219.82, 1220.04, 1220.04, 1219.85, 1221.49, 1219.33, 1222.05, 1220.56, 1218.07, 1218.28, 1220.17, 668.0, 668.0, 668.0, 1220.17, 1218.28, 1218.07, 1220.54, 1222.02, 1219.33, 1221.46, 1219.82, 1220.01, 1219.91, 1219.91, 1223.72, 668.0, 668.0, 668.0, 1219.73, 1218.07, 1218.28, 1218.28, 1220.17, 1218.28, 1218.28, 1218.07, 1219.73, 668.0, 668.0, 668.0, 1223.69, 1219.85, 1219.88, 1221.53, 1222.54, 1226.35, 668.0, 668.0, 668.0, 1222.05, 1220.56, 1220.56, 1218.07, 1219.73, 1218.07, 1220.54, 1220.54, 1222.05, 668.0, 668.0, 668.0, 1226.3, 1222.48, 1221.4, 1220.24, 1221.53, 1222.54, 1219.91, 1223.75, 1221.49, 1219.33, 1219.33, 1222.05, 668.0, 668.0, 668.0, 1222.05, 1219.33, 1219.33, 1221.46, 1223.69, 1219.85, 1222.48, 1221.4, 1220.07, 668.0, 668.0, 668.0, 1219.94, 1220.07, 1219.85, 1219.85, 1221.53, 1223.75, 668.0, 668.0, 668.0, 1223.72, 1221.49, 1219.82, 1219.82, 1220.01, 1219.88, 668.0, 668.0, 668.0, 668.0, 668.0, 668.0, 668.0, 668.0, 668.0, 1220.07, 1219.94, 1219.91, 1222.58, 1226.38, 1222.58, 1219.91, 1219.91, 1220.04, 668.0, 668.0, 668.0, 668.0, 668.0, 668.0, 668.0, 668.0, 668.0, 668.0, 668.0, 668.0, 668.0, 668.0, 668.0, 1221.19, 1219.88, 1221.19, 668.0, 668.0, 668.0, 668.0, 668.0, 668.0, 668.0, 668.0, 668.0, 668.0, 668.0, 668.0, 668.0, 668.0, 668.0, 668.0, 668.0, 668.0, 668.0, 668.0, 668.0, 668.0, 668.0, 668.0, 668.0, 668.0, 668.0, 668.0, 668.0, 668.0, 668.0, 668.0, 668.0, 668.0, 668.0, 668.0, 668.0, 668.0, 668.0, 668.0, 668.0, 668.0, 668.0, 668.0, 668.0, 668.0, 668.0, 668.0, 668.0, 668.0, 668.0, 668.0, 668.0, 668.0, 668.0, 668.0, 668.0, 668.0, 668.0, 668.0, 668.0, 668.0, 668.0, 668.0, 668.0, 668.0, 668.0, 668.0, 668.0, 668.0, 668.0, 668.0, 668.0, 668.0, 668.0, 668.0, 668.0, 668.0, 668.0, 668.0, 668.0, 668.0, 668.0, 668.0, 668.0, 668.0, 668.0, 668.0, 668.0, 668.0, 668.0, 668.0, 668.0, 668.0, 668.0, 668.0, 668.0, 668.0, 668.0, 668.0, 668.0, 668.0, 668.0, 668.0, 668.0, 668.0, 668.0, 668.0, 668.0, 668.0, 668.0, 668.0, 668.0, 668.0]\n"
          ]
        }
      ]
    },
    {
      "cell_type": "code",
      "source": [
        "datatfo = [result_tfo[x*21:x*21+21] for x in range(24)]\n",
        "dftfo = pd.DataFrame(datatfo)\n",
        "#print(dftfo)\n",
        "#dftfo.transpose()"
      ],
      "metadata": {
        "id": "Nm96nd7owcIa"
      },
      "execution_count": null,
      "outputs": []
    },
    {
      "cell_type": "code",
      "source": [
        "from google.colab import files\n",
        "dftfo.to_csv('Compact Outer Surface Layer .csv', encoding = 'utf-8-sig') \n",
        "files.download('Compact Outer Surface Layer .csv')"
      ],
      "metadata": {
        "id": "Szi7SYHIwm4i",
        "colab": {
          "base_uri": "https://localhost:8080/",
          "height": 17
        },
        "outputId": "0a224f9c-1640-4296-97f8-be356f4fc170"
      },
      "execution_count": null,
      "outputs": [
        {
          "output_type": "display_data",
          "data": {
            "text/plain": [
              "<IPython.core.display.Javascript object>"
            ],
            "application/javascript": [
              "\n",
              "    async function download(id, filename, size) {\n",
              "      if (!google.colab.kernel.accessAllowed) {\n",
              "        return;\n",
              "      }\n",
              "      const div = document.createElement('div');\n",
              "      const label = document.createElement('label');\n",
              "      label.textContent = `Downloading \"${filename}\": `;\n",
              "      div.appendChild(label);\n",
              "      const progress = document.createElement('progress');\n",
              "      progress.max = size;\n",
              "      div.appendChild(progress);\n",
              "      document.body.appendChild(div);\n",
              "\n",
              "      const buffers = [];\n",
              "      let downloaded = 0;\n",
              "\n",
              "      const channel = await google.colab.kernel.comms.open(id);\n",
              "      // Send a message to notify the kernel that we're ready.\n",
              "      channel.send({})\n",
              "\n",
              "      for await (const message of channel.messages) {\n",
              "        // Send a message to notify the kernel that we're ready.\n",
              "        channel.send({})\n",
              "        if (message.buffers) {\n",
              "          for (const buffer of message.buffers) {\n",
              "            buffers.push(buffer);\n",
              "            downloaded += buffer.byteLength;\n",
              "            progress.value = downloaded;\n",
              "          }\n",
              "        }\n",
              "      }\n",
              "      const blob = new Blob(buffers, {type: 'application/binary'});\n",
              "      const a = document.createElement('a');\n",
              "      a.href = window.URL.createObjectURL(blob);\n",
              "      a.download = filename;\n",
              "      div.appendChild(a);\n",
              "      a.click();\n",
              "      div.remove();\n",
              "    }\n",
              "  "
            ]
          },
          "metadata": {}
        },
        {
          "output_type": "display_data",
          "data": {
            "text/plain": [
              "<IPython.core.display.Javascript object>"
            ],
            "application/javascript": [
              "download(\"download_32c4e0c1-22ca-4e94-bbc1-1dbd6c1a622a\", \"Compact Outer Surface Layer .csv\", 3495)"
            ]
          },
          "metadata": {}
        }
      ]
    },
    {
      "cell_type": "markdown",
      "source": [
        "# ***Compact Inner Surface Temperature***"
      ],
      "metadata": {
        "id": "TdVzuvDSwzKW"
      }
    },
    {
      "cell_type": "code",
      "source": [
        "part_tfi = []\n",
        "for i in range (len(layer)):\n",
        "  part = layer[i]\n",
        "  for x in range(len(part)):\n",
        "    part_tfi.append(part[x])\n",
        "    x =x+1\n",
        "print(len(part_tfi))"
      ],
      "metadata": {
        "colab": {
          "base_uri": "https://localhost:8080/"
        },
        "id": "Q_P4k3RYMQ4J",
        "outputId": "4a7b3c0f-a0e7-47d2-ddef-45d57523396e"
      },
      "execution_count": null,
      "outputs": [
        {
          "output_type": "stream",
          "name": "stdout",
          "text": [
            "504\n"
          ]
        }
      ]
    },
    {
      "cell_type": "code",
      "source": [
        "#cc_zrc = 13.0972146637013\n",
        "cc_zrc = [5.80108992878117, 5.80108992878117, 5.68864965033206, 5.57620937188295, 5.57620937188295, 5.43878236488959, 5.18891507944712,5.18891507944712,5.10146152954226,5.10146152954226,5.10146152954226,5.10146152954226]       \n",
        "#cc_sic = 12.56\n",
        "cc_sic = [5.56371600761083,5.56371600761083, 5.93851693577453, 6.31331786393824, 6.56318514938071,6.68811879210194, 10.3111944310178, 10.3111944310178, 10.0613271455753, 10.0613271455753, 10.0613271455753, 10.0613271455753 ]"
      ],
      "metadata": {
        "id": "6dplRQY9HKWe"
      },
      "execution_count": null,
      "outputs": []
    },
    {
      "cell_type": "code",
      "source": [
        "#Temperature dalam K\n",
        "result_tfi = []\n",
        "for i in range (len(part_tfi)):\n",
        "  #tfi = result_tfo[i]+((part_tfi[i]*1000000*rf/number_coolantchannel)*(0.5+((innerfuel_compactradius**2)/(rf*(math.log(innerfuel_compactradius/outerfuel_compactradius))))))/(2*math.pi*cc_sic)\n",
        "  tfi = result_tfo[i]+(part_tfi[i]*1000000*rf/number_coolantchannel)*(0.5+(pow(innerfuel_compactradius,2)/rf*math.log(innerfuel_compactradius/outerfuel_compactradius)))/2*math.pi*cc_sic[11]\n",
        "  #print(tfi)\n",
        "  if part_tfi[i]==0:\n",
        "    result_tfi.append(result_tfo[i])\n",
        "  else:\n",
        "    result_tfi.append(tfi)\n",
        "  i = i+1\n",
        "result_tfi = [round(elem, 2) for elem in result_tfi ]\n",
        "print(result_tfi)"
      ],
      "metadata": {
        "colab": {
          "base_uri": "https://localhost:8080/"
        },
        "id": "fFrHHA-tw4IL",
        "outputId": "e90410fc-be04-45ac-96df-f0b05fa48b73"
      },
      "execution_count": null,
      "outputs": [
        {
          "output_type": "stream",
          "name": "stdout",
          "text": [
            "[668.0, 668.0, 668.0, 668.0, 668.0, 668.0, 668.0, 668.0, 668.0, 668.0, 668.0, 668.0, 668.0, 668.0, 668.0, 668.0, 668.0, 668.0, 668.0, 668.0, 668.0, 668.0, 668.0, 668.0, 668.0, 668.0, 668.0, 668.0, 668.0, 668.0, 668.0, 668.0, 668.0, 668.0, 668.0, 668.0, 668.0, 668.0, 668.0, 668.0, 668.0, 668.0, 668.0, 668.0, 668.0, 668.0, 668.0, 668.0, 668.0, 668.0, 668.0, 668.0, 668.0, 668.0, 668.0, 668.0, 668.0, 668.0, 668.0, 668.0, 668.0, 668.0, 668.0, 668.0, 668.0, 668.0, 668.0, 668.0, 668.0, 668.0, 668.0, 668.0, 668.0, 668.0, 668.0, 668.0, 668.0, 668.0, 668.0, 668.0, 668.0, 668.0, 668.0, 668.0, 668.0, 668.0, 668.0, 668.0, 668.0, 668.0, 668.0, 668.0, 668.0, 668.0, 668.0, 668.0, 668.0, 668.0, 668.0, 668.0, 668.0, 668.0, 668.0, 668.0, 668.0, 668.0, 668.0, 668.0, 668.0, 668.0, 668.0, 668.0, 668.0, 668.0, 1237.57, 1235.25, 1237.57, 668.0, 668.0, 668.0, 668.0, 668.0, 668.0, 668.0, 668.0, 668.0, 668.0, 668.0, 668.0, 668.0, 668.0, 668.0, 1234.97, 1234.75, 1234.7, 1239.34, 1245.98, 1239.34, 1234.75, 1234.75, 1235.02, 668.0, 668.0, 668.0, 668.0, 668.0, 668.0, 668.0, 668.0, 668.0, 1234.64, 1234.92, 1234.59, 1234.59, 1237.5, 1241.39, 668.0, 668.0, 668.0, 1241.39, 1237.5, 1234.64, 1234.64, 1235.02, 1234.8, 668.0, 668.0, 668.0, 1235.02, 1237.34, 1239.23, 1234.64, 1241.34, 1237.45, 1233.73, 1233.73, 1238.48, 668.0, 668.0, 668.0, 1238.48, 1233.73, 1233.73, 1237.5, 1241.45, 1234.75, 1239.34, 1237.57, 1235.25, 1237.4, 1239.28, 1245.89, 668.0, 668.0, 668.0, 1238.43, 1235.84, 1235.84, 1231.53, 1234.43, 1231.53, 1235.88, 1235.88, 1238.48, 668.0, 668.0, 668.0, 1245.98, 1239.34, 1237.57, 1234.17, 1234.17, 1240.75, 668.0, 668.0, 668.0, 1234.43, 1231.53, 1231.9, 1231.9, 1235.19, 1231.9, 1231.9, 1231.53, 1234.43, 668.0, 668.0, 668.0, 1241.39, 1234.7, 1234.75, 1234.38, 1234.11, 1236.97, 1233.73, 1238.48, 1235.84, 1231.53, 1231.9, 1235.19, 668.0, 668.0, 668.0, 1235.19, 1231.9, 1231.53, 1235.84, 1238.48, 1233.73, 1237.5, 1234.59, 1234.97, 1234.97, 1234.64, 1237.5, 1233.73, 1238.48, 1235.88, 1231.53, 1231.9, 1235.19, 668.0, 668.0, 668.0, 1235.19, 1231.9, 1231.53, 1235.84, 1238.43, 1233.73, 1237.45, 1234.59, 1234.92, 1234.75, 1234.75, 1241.39, 668.0, 668.0, 668.0, 1234.43, 1231.53, 1231.9, 1231.9, 1235.19, 1231.9, 1231.9, 1231.53, 1234.43, 668.0, 668.0, 668.0, 1241.34, 1234.64, 1234.7, 1237.57, 1239.34, 1245.98, 668.0, 668.0, 668.0, 1238.48, 1235.88, 1235.88, 1231.53, 1234.43, 1231.53, 1235.84, 1235.84, 1238.48, 668.0, 668.0, 668.0, 1245.89, 1239.23, 1237.34, 1235.31, 1237.57, 1239.34, 1234.75, 1241.45, 1237.5, 1233.73, 1233.73, 1238.48, 668.0, 668.0, 668.0, 1238.48, 1233.73, 1233.73, 1237.45, 1241.34, 1234.64, 1239.23, 1237.34, 1235.02, 668.0, 668.0, 668.0, 1234.8, 1235.02, 1234.64, 1234.64, 1237.57, 1241.45, 668.0, 668.0, 668.0, 1241.39, 1237.5, 1234.59, 1234.59, 1234.92, 1234.7, 668.0, 668.0, 668.0, 668.0, 668.0, 668.0, 668.0, 668.0, 668.0, 1235.02, 1234.8, 1234.75, 1239.4, 1246.03, 1239.4, 1234.75, 1234.75, 1234.97, 668.0, 668.0, 668.0, 668.0, 668.0, 668.0, 668.0, 668.0, 668.0, 668.0, 668.0, 668.0, 668.0, 668.0, 668.0, 1236.97, 1234.7, 1236.97, 668.0, 668.0, 668.0, 668.0, 668.0, 668.0, 668.0, 668.0, 668.0, 668.0, 668.0, 668.0, 668.0, 668.0, 668.0, 668.0, 668.0, 668.0, 668.0, 668.0, 668.0, 668.0, 668.0, 668.0, 668.0, 668.0, 668.0, 668.0, 668.0, 668.0, 668.0, 668.0, 668.0, 668.0, 668.0, 668.0, 668.0, 668.0, 668.0, 668.0, 668.0, 668.0, 668.0, 668.0, 668.0, 668.0, 668.0, 668.0, 668.0, 668.0, 668.0, 668.0, 668.0, 668.0, 668.0, 668.0, 668.0, 668.0, 668.0, 668.0, 668.0, 668.0, 668.0, 668.0, 668.0, 668.0, 668.0, 668.0, 668.0, 668.0, 668.0, 668.0, 668.0, 668.0, 668.0, 668.0, 668.0, 668.0, 668.0, 668.0, 668.0, 668.0, 668.0, 668.0, 668.0, 668.0, 668.0, 668.0, 668.0, 668.0, 668.0, 668.0, 668.0, 668.0, 668.0, 668.0, 668.0, 668.0, 668.0, 668.0, 668.0, 668.0, 668.0, 668.0, 668.0, 668.0, 668.0, 668.0, 668.0, 668.0, 668.0, 668.0, 668.0, 668.0]\n"
          ]
        }
      ]
    },
    {
      "cell_type": "code",
      "source": [
        "datatfi = [result_tfi[x*21:x*21+21] for x in range(24)]\n",
        "dftfi = pd.DataFrame(datatfi)\n",
        "#print(dftfi)\n",
        "#dftfi.transpose()"
      ],
      "metadata": {
        "id": "6abL1w-NxC1i"
      },
      "execution_count": null,
      "outputs": []
    },
    {
      "cell_type": "code",
      "source": [
        "from google.colab import files\n",
        "dftfi.to_csv('Compact Inner Surface Layer .csv', encoding = 'utf-8-sig') \n",
        "files.download('Compact Inner Surface Layer .csv')"
      ],
      "metadata": {
        "id": "MgLnOrGwxHrh",
        "colab": {
          "base_uri": "https://localhost:8080/",
          "height": 17
        },
        "outputId": "717cdc94-f20c-4940-f4a4-dfa02bf0e86e"
      },
      "execution_count": null,
      "outputs": [
        {
          "output_type": "display_data",
          "data": {
            "text/plain": [
              "<IPython.core.display.Javascript object>"
            ],
            "application/javascript": [
              "\n",
              "    async function download(id, filename, size) {\n",
              "      if (!google.colab.kernel.accessAllowed) {\n",
              "        return;\n",
              "      }\n",
              "      const div = document.createElement('div');\n",
              "      const label = document.createElement('label');\n",
              "      label.textContent = `Downloading \"${filename}\": `;\n",
              "      div.appendChild(label);\n",
              "      const progress = document.createElement('progress');\n",
              "      progress.max = size;\n",
              "      div.appendChild(progress);\n",
              "      document.body.appendChild(div);\n",
              "\n",
              "      const buffers = [];\n",
              "      let downloaded = 0;\n",
              "\n",
              "      const channel = await google.colab.kernel.comms.open(id);\n",
              "      // Send a message to notify the kernel that we're ready.\n",
              "      channel.send({})\n",
              "\n",
              "      for await (const message of channel.messages) {\n",
              "        // Send a message to notify the kernel that we're ready.\n",
              "        channel.send({})\n",
              "        if (message.buffers) {\n",
              "          for (const buffer of message.buffers) {\n",
              "            buffers.push(buffer);\n",
              "            downloaded += buffer.byteLength;\n",
              "            progress.value = downloaded;\n",
              "          }\n",
              "        }\n",
              "      }\n",
              "      const blob = new Blob(buffers, {type: 'application/binary'});\n",
              "      const a = document.createElement('a');\n",
              "      a.href = window.URL.createObjectURL(blob);\n",
              "      a.download = filename;\n",
              "      div.appendChild(a);\n",
              "      a.click();\n",
              "      div.remove();\n",
              "    }\n",
              "  "
            ]
          },
          "metadata": {}
        },
        {
          "output_type": "display_data",
          "data": {
            "text/plain": [
              "<IPython.core.display.Javascript object>"
            ],
            "application/javascript": [
              "download(\"download_cc7cc552-9b24-41ba-9d06-de1453eec2d2\", \"Compact Inner Surface Layer .csv\", 3473)"
            ]
          },
          "metadata": {}
        }
      ]
    }
  ]
}